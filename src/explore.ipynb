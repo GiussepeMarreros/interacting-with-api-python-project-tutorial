{
    "cells": [
        {
            "cell_type": "markdown",
            "metadata": {},
            "source": [
                "# Explore here"
            ]
        },
        {
            "cell_type": "code",
            "execution_count": 1,
            "metadata": {},
            "outputs": [],
            "source": [
                "import os\n",
                "import pandas as pd\n",
                "import matplotlib.pyplot as plt\n",
                "from dotenv import load_dotenv\n",
                "\n",
                "# load the .env file variables\n",
                "load_dotenv()\n",
                "\n",
                "\n",
                "# Spotify API credentials\n",
                "client_id = os.environ.get(\"CLIENT_ID\")\n",
                "client_secret = os.environ.get(\"CLIENT_SECRET\")\n",
                "\n"
            ]
        },
        {
            "cell_type": "code",
            "execution_count": 2,
            "metadata": {},
            "outputs": [],
            "source": [
                "import spotipy\n",
                "from spotipy.oauth2 import SpotifyClientCredentials\n",
                "\n",
                "auth_manager = SpotifyClientCredentials(client_id=client_id, client_secret=client_secret)\n",
                "spotify = spotipy.Spotify(auth_manager=auth_manager)"
            ]
        },
        {
            "cell_type": "code",
            "execution_count": 3,
            "metadata": {},
            "outputs": [
                {
                    "ename": "SpotifyOauthError",
                    "evalue": "error: invalid_client, error_description: Invalid client",
                    "output_type": "error",
                    "traceback": [
                        "\u001b[31m---------------------------------------------------------------------------\u001b[39m",
                        "\u001b[31mHTTPError\u001b[39m                                 Traceback (most recent call last)",
                        "\u001b[36mFile \u001b[39m\u001b[32m~/.local/lib/python3.11/site-packages/spotipy/oauth2.py:265\u001b[39m, in \u001b[36mSpotifyClientCredentials._request_access_token\u001b[39m\u001b[34m(self)\u001b[39m\n\u001b[32m    257\u001b[39m response = \u001b[38;5;28mself\u001b[39m._session.post(\n\u001b[32m    258\u001b[39m     \u001b[38;5;28mself\u001b[39m.OAUTH_TOKEN_URL,\n\u001b[32m    259\u001b[39m     data=payload,\n\u001b[32m   (...)\u001b[39m\u001b[32m    263\u001b[39m     timeout=\u001b[38;5;28mself\u001b[39m.requests_timeout,\n\u001b[32m    264\u001b[39m )\n\u001b[32m--> \u001b[39m\u001b[32m265\u001b[39m \u001b[43mresponse\u001b[49m\u001b[43m.\u001b[49m\u001b[43mraise_for_status\u001b[49m\u001b[43m(\u001b[49m\u001b[43m)\u001b[49m\n\u001b[32m    266\u001b[39m token_info = response.json()\n",
                        "\u001b[36mFile \u001b[39m\u001b[32m~/.local/lib/python3.11/site-packages/requests/models.py:960\u001b[39m, in \u001b[36mResponse.raise_for_status\u001b[39m\u001b[34m(self)\u001b[39m\n\u001b[32m    959\u001b[39m \u001b[38;5;28;01mif\u001b[39;00m http_error_msg:\n\u001b[32m--> \u001b[39m\u001b[32m960\u001b[39m     \u001b[38;5;28;01mraise\u001b[39;00m HTTPError(http_error_msg, response=\u001b[38;5;28mself\u001b[39m)\n",
                        "\u001b[31mHTTPError\u001b[39m: 400 Client Error: Bad Request for url: https://accounts.spotify.com/api/token",
                        "\nDuring handling of the above exception, another exception occurred:\n",
                        "\u001b[31mSpotifyOauthError\u001b[39m                         Traceback (most recent call last)",
                        "\u001b[36mCell\u001b[39m\u001b[36m \u001b[39m\u001b[32mIn[3]\u001b[39m\u001b[32m, line 4\u001b[39m\n\u001b[32m      1\u001b[39m artist_id = \u001b[33m\"\u001b[39m\u001b[33m3TVXtAsR1Inumwj472S9r4\u001b[39m\u001b[33m\"\u001b[39m\n\u001b[32m      3\u001b[39m \u001b[38;5;66;03m# Get the top tracks of an artist\u001b[39;00m\n\u001b[32m----> \u001b[39m\u001b[32m4\u001b[39m results = \u001b[43mspotify\u001b[49m\u001b[43m.\u001b[49m\u001b[43martist_top_tracks\u001b[49m\u001b[43m(\u001b[49m\u001b[43martist_id\u001b[49m\u001b[43m)\u001b[49m\n\u001b[32m      6\u001b[39m songs = []\n\u001b[32m      7\u001b[39m \u001b[38;5;28;01mfor\u001b[39;00m track \u001b[38;5;129;01min\u001b[39;00m results[\u001b[33m'\u001b[39m\u001b[33mtracks\u001b[39m\u001b[33m'\u001b[39m]:\n",
                        "\u001b[36mFile \u001b[39m\u001b[32m~/.local/lib/python3.11/site-packages/spotipy/client.py:436\u001b[39m, in \u001b[36mSpotify.artist_top_tracks\u001b[39m\u001b[34m(self, artist_id, country)\u001b[39m\n\u001b[32m    427\u001b[39m \u001b[38;5;250m\u001b[39m\u001b[33;03m\"\"\" Get Spotify catalog information about an artist's top 10 tracks\u001b[39;00m\n\u001b[32m    428\u001b[39m \u001b[33;03m    by country.\u001b[39;00m\n\u001b[32m    429\u001b[39m \n\u001b[32m   (...)\u001b[39m\u001b[32m    432\u001b[39m \u001b[33;03m        - country - limit the response to one particular country.\u001b[39;00m\n\u001b[32m    433\u001b[39m \u001b[33;03m\"\"\"\u001b[39;00m\n\u001b[32m    435\u001b[39m trid = \u001b[38;5;28mself\u001b[39m._get_id(\u001b[33m\"\u001b[39m\u001b[33martist\u001b[39m\u001b[33m\"\u001b[39m, artist_id)\n\u001b[32m--> \u001b[39m\u001b[32m436\u001b[39m \u001b[38;5;28;01mreturn\u001b[39;00m \u001b[38;5;28;43mself\u001b[39;49m\u001b[43m.\u001b[49m\u001b[43m_get\u001b[49m\u001b[43m(\u001b[49m\u001b[33;43m\"\u001b[39;49m\u001b[33;43martists/\u001b[39;49m\u001b[33;43m\"\u001b[39;49m\u001b[43m \u001b[49m\u001b[43m+\u001b[49m\u001b[43m \u001b[49m\u001b[43mtrid\u001b[49m\u001b[43m \u001b[49m\u001b[43m+\u001b[49m\u001b[43m \u001b[49m\u001b[33;43m\"\u001b[39;49m\u001b[33;43m/top-tracks\u001b[39;49m\u001b[33;43m\"\u001b[39;49m\u001b[43m,\u001b[49m\u001b[43m \u001b[49m\u001b[43mcountry\u001b[49m\u001b[43m=\u001b[49m\u001b[43mcountry\u001b[49m\u001b[43m)\u001b[49m\n",
                        "\u001b[36mFile \u001b[39m\u001b[32m~/.local/lib/python3.11/site-packages/spotipy/client.py:323\u001b[39m, in \u001b[36mSpotify._get\u001b[39m\u001b[34m(self, url, args, payload, **kwargs)\u001b[39m\n\u001b[32m    320\u001b[39m \u001b[38;5;28;01mif\u001b[39;00m args:\n\u001b[32m    321\u001b[39m     kwargs.update(args)\n\u001b[32m--> \u001b[39m\u001b[32m323\u001b[39m \u001b[38;5;28;01mreturn\u001b[39;00m \u001b[38;5;28;43mself\u001b[39;49m\u001b[43m.\u001b[49m\u001b[43m_internal_call\u001b[49m\u001b[43m(\u001b[49m\u001b[33;43m\"\u001b[39;49m\u001b[33;43mGET\u001b[39;49m\u001b[33;43m\"\u001b[39;49m\u001b[43m,\u001b[49m\u001b[43m \u001b[49m\u001b[43murl\u001b[49m\u001b[43m,\u001b[49m\u001b[43m \u001b[49m\u001b[43mpayload\u001b[49m\u001b[43m,\u001b[49m\u001b[43m \u001b[49m\u001b[43mkwargs\u001b[49m\u001b[43m)\u001b[49m\n",
                        "\u001b[36mFile \u001b[39m\u001b[32m~/.local/lib/python3.11/site-packages/spotipy/client.py:247\u001b[39m, in \u001b[36mSpotify._internal_call\u001b[39m\u001b[34m(self, method, url, payload, params)\u001b[39m\n\u001b[32m    245\u001b[39m \u001b[38;5;28;01mif\u001b[39;00m \u001b[38;5;129;01mnot\u001b[39;00m url.startswith(\u001b[33m\"\u001b[39m\u001b[33mhttp\u001b[39m\u001b[33m\"\u001b[39m):\n\u001b[32m    246\u001b[39m     url = \u001b[38;5;28mself\u001b[39m.prefix + url\n\u001b[32m--> \u001b[39m\u001b[32m247\u001b[39m headers = \u001b[38;5;28;43mself\u001b[39;49m\u001b[43m.\u001b[49m\u001b[43m_auth_headers\u001b[49m\u001b[43m(\u001b[49m\u001b[43m)\u001b[49m\n\u001b[32m    249\u001b[39m \u001b[38;5;28;01mif\u001b[39;00m \u001b[33m\"\u001b[39m\u001b[33mcontent_type\u001b[39m\u001b[33m\"\u001b[39m \u001b[38;5;129;01min\u001b[39;00m args[\u001b[33m\"\u001b[39m\u001b[33mparams\u001b[39m\u001b[33m\"\u001b[39m]:\n\u001b[32m    250\u001b[39m     headers[\u001b[33m\"\u001b[39m\u001b[33mContent-Type\u001b[39m\u001b[33m\"\u001b[39m] = args[\u001b[33m\"\u001b[39m\u001b[33mparams\u001b[39m\u001b[33m\"\u001b[39m][\u001b[33m\"\u001b[39m\u001b[33mcontent_type\u001b[39m\u001b[33m\"\u001b[39m]\n",
                        "\u001b[36mFile \u001b[39m\u001b[32m~/.local/lib/python3.11/site-packages/spotipy/client.py:238\u001b[39m, in \u001b[36mSpotify._auth_headers\u001b[39m\u001b[34m(self)\u001b[39m\n\u001b[32m    236\u001b[39m     \u001b[38;5;28;01mreturn\u001b[39;00m {}\n\u001b[32m    237\u001b[39m \u001b[38;5;28;01mtry\u001b[39;00m:\n\u001b[32m--> \u001b[39m\u001b[32m238\u001b[39m     token = \u001b[38;5;28;43mself\u001b[39;49m\u001b[43m.\u001b[49m\u001b[43mauth_manager\u001b[49m\u001b[43m.\u001b[49m\u001b[43mget_access_token\u001b[49m\u001b[43m(\u001b[49m\u001b[43mas_dict\u001b[49m\u001b[43m=\u001b[49m\u001b[38;5;28;43;01mFalse\u001b[39;49;00m\u001b[43m)\u001b[49m\n\u001b[32m    239\u001b[39m \u001b[38;5;28;01mexcept\u001b[39;00m \u001b[38;5;167;01mTypeError\u001b[39;00m:\n\u001b[32m    240\u001b[39m     token = \u001b[38;5;28mself\u001b[39m.auth_manager.get_access_token()\n",
                        "\u001b[36mFile \u001b[39m\u001b[32m~/.local/lib/python3.11/site-packages/spotipy/oauth2.py:238\u001b[39m, in \u001b[36mSpotifyClientCredentials.get_access_token\u001b[39m\u001b[34m(self, as_dict, check_cache)\u001b[39m\n\u001b[32m    235\u001b[39m     \u001b[38;5;28;01mif\u001b[39;00m token_info \u001b[38;5;129;01mand\u001b[39;00m \u001b[38;5;129;01mnot\u001b[39;00m \u001b[38;5;28mself\u001b[39m.is_token_expired(token_info):\n\u001b[32m    236\u001b[39m         \u001b[38;5;28;01mreturn\u001b[39;00m token_info \u001b[38;5;28;01mif\u001b[39;00m as_dict \u001b[38;5;28;01melse\u001b[39;00m token_info[\u001b[33m\"\u001b[39m\u001b[33maccess_token\u001b[39m\u001b[33m\"\u001b[39m]\n\u001b[32m--> \u001b[39m\u001b[32m238\u001b[39m token_info = \u001b[38;5;28;43mself\u001b[39;49m\u001b[43m.\u001b[49m\u001b[43m_request_access_token\u001b[49m\u001b[43m(\u001b[49m\u001b[43m)\u001b[49m\n\u001b[32m    239\u001b[39m token_info = \u001b[38;5;28mself\u001b[39m._add_custom_values_to_token_info(token_info)\n\u001b[32m    240\u001b[39m \u001b[38;5;28mself\u001b[39m.cache_handler.save_token_to_cache(token_info)\n",
                        "\u001b[36mFile \u001b[39m\u001b[32m~/.local/lib/python3.11/site-packages/spotipy/oauth2.py:269\u001b[39m, in \u001b[36mSpotifyClientCredentials._request_access_token\u001b[39m\u001b[34m(self)\u001b[39m\n\u001b[32m    267\u001b[39m     \u001b[38;5;28;01mreturn\u001b[39;00m token_info\n\u001b[32m    268\u001b[39m \u001b[38;5;28;01mexcept\u001b[39;00m requests.exceptions.HTTPError \u001b[38;5;28;01mas\u001b[39;00m http_error:\n\u001b[32m--> \u001b[39m\u001b[32m269\u001b[39m     \u001b[38;5;28;43mself\u001b[39;49m\u001b[43m.\u001b[49m\u001b[43m_handle_oauth_error\u001b[49m\u001b[43m(\u001b[49m\u001b[43mhttp_error\u001b[49m\u001b[43m)\u001b[49m\n",
                        "\u001b[36mFile \u001b[39m\u001b[32m~/.local/lib/python3.11/site-packages/spotipy/oauth2.py:146\u001b[39m, in \u001b[36mSpotifyAuthBase._handle_oauth_error\u001b[39m\u001b[34m(self, http_error)\u001b[39m\n\u001b[32m    143\u001b[39m     error = response.text \u001b[38;5;129;01mor\u001b[39;00m \u001b[38;5;28;01mNone\u001b[39;00m\n\u001b[32m    144\u001b[39m     error_description = \u001b[38;5;28;01mNone\u001b[39;00m\n\u001b[32m--> \u001b[39m\u001b[32m146\u001b[39m \u001b[38;5;28;01mraise\u001b[39;00m SpotifyOauthError(\n\u001b[32m    147\u001b[39m     \u001b[33m'\u001b[39m\u001b[33merror: \u001b[39m\u001b[38;5;132;01m{0}\u001b[39;00m\u001b[33m, error_description: \u001b[39m\u001b[38;5;132;01m{1}\u001b[39;00m\u001b[33m'\u001b[39m.format(\n\u001b[32m    148\u001b[39m         error, error_description\n\u001b[32m    149\u001b[39m     ),\n\u001b[32m    150\u001b[39m     error=error,\n\u001b[32m    151\u001b[39m     error_description=error_description\n\u001b[32m    152\u001b[39m )\n",
                        "\u001b[31mSpotifyOauthError\u001b[39m: error: invalid_client, error_description: Invalid client"
                    ]
                }
            ],
            "source": [
                "artist_id = \"3TVXtAsR1Inumwj472S9r4\"\n",
                "\n",
                "# Get the top tracks of an artist\n",
                "results = spotify.artist_top_tracks(artist_id)\n",
                "\n",
                "songs = []\n",
                "for track in results['tracks']:\n",
                "    songs.append({\n",
                "        'name': track['name'],\n",
                "        'popularity': track['popularity'],\n",
                "        'duration_min': track['duration_ms'] / 60000\n",
                "    })"
            ]
        }
    ],
    "metadata": {
        "kernelspec": {
            "display_name": "Python 3",
            "language": "python",
            "name": "python3"
        },
        "language_info": {
            "codemirror_mode": {
                "name": "ipython",
                "version": 3
            },
            "file_extension": ".py",
            "mimetype": "text/x-python",
            "name": "python",
            "nbconvert_exporter": "python",
            "pygments_lexer": "ipython3",
            "version": "3.11.4"
        },
        "orig_nbformat": 4
    },
    "nbformat": 4,
    "nbformat_minor": 2
}
